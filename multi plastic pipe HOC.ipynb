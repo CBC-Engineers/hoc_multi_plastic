{
 "cells": [
  {
   "cell_type": "code",
   "execution_count": 1,
   "id": "6f68dcaa-1a9c-4c98-a1d0-e7576da451d2",
   "metadata": {},
   "outputs": [
    {
     "data": {
      "application/vnd.jupyter.widget-view+json": {
       "model_id": "8257b828e0b24cd6800c855370f4a1b5",
       "version_major": 2,
       "version_minor": 0
      },
      "text/plain": [
       "VBox(children=(HBox(children=(Dropdown(description='Pipe Names', index=2, options=('Snap-Tite', 'Spirolite', '…"
      ]
     },
     "metadata": {},
     "output_type": "display_data"
    }
   ],
   "source": [
    "import hoc_multi_plastic.hoc_widgets as widgets"
   ]
  },
  {
   "cell_type": "code",
   "execution_count": 2,
   "id": "6f7bd740-f721-456d-8f84-c74e00c5a39d",
   "metadata": {
    "scrolled": true
   },
   "outputs": [],
   "source": [
    "widgets.SH.book.app.quit()"
   ]
  }
 ],
 "metadata": {
  "kernelspec": {
   "display_name": "Python 3 (ipykernel)",
   "language": "python",
   "name": "python3"
  },
  "language_info": {
   "codemirror_mode": {
    "name": "ipython",
    "version": 3
   },
   "file_extension": ".py",
   "mimetype": "text/x-python",
   "name": "python",
   "nbconvert_exporter": "python",
   "pygments_lexer": "ipython3",
   "version": "3.11.3"
  }
 },
 "nbformat": 4,
 "nbformat_minor": 5
}
